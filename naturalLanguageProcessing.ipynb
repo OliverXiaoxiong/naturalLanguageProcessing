{
 "cells": [
  {
   "cell_type": "code",
   "execution_count": 55,
   "metadata": {
    "collapsed": false
   },
   "outputs": [],
   "source": [
    "%matplotlib inline\n",
    "\n",
    "import numpy as np\n",
    "import nltk as nltk #nlp module\n",
    "import matplotlib as plot #visuals\n",
    "import sklearn as skl\n",
    "import pandas as pd\n",
    "import spacy #nlp module\n",
    "import re\n",
    "import random\n",
    "from random import sample\n",
    "from collections import defaultdict, Counter\n",
    "from sklearn.feature_extraction.text import CountVectorizer\n",
    "from sklearn.cross_validation import train_test_split\n",
    "from nltk import sent_tokenize, word_tokenize, pos_tag\n",
    "from nltk.corpus import treebank\n",
    "from nltk.corpus import state_union\n",
    "from nltk.tokenize import PunktSentenceTokenizer\n",
    "\n",
    "\n",
    "nlp = spacy.load('en')\n",
    "from spacy.en import English\n",
    "parser = English()"
   ]
  },
  {
   "cell_type": "code",
   "execution_count": 27,
   "metadata": {
    "collapsed": false
   },
   "outputs": [],
   "source": [
    "textRead = pd.read_csv('factCheck.csv')\n",
    "#textRead = textRead.parse('Sheet1')\n",
    "textRead.columns = ['Json', 'Accuracy', 'Title', 'Genre', 'KeywordName', 'Occupation', 'Location', 'PoliticalParty', \n",
    "                    '1', '2', '3', '4', '5', 'Source', 'Url']\n"
   ]
  },
  {
   "cell_type": "code",
   "execution_count": 28,
   "metadata": {
    "collapsed": true
   },
   "outputs": [],
   "source": [
    "sentenceFrame = textRead[textRead.columns[2]]\n",
    "#sentenceFrame = pd.DataFrame(sentenceFrame)"
   ]
  },
  {
   "cell_type": "code",
   "execution_count": 31,
   "metadata": {
    "collapsed": false
   },
   "outputs": [
    {
     "name": "stdout",
     "output_type": "stream",
     "text": [
      "voting\n",
      "starting\n",
      "during\n",
      "spending\n",
      "making\n",
      "cutting\n",
      "Shooting\n",
      "endorsing\n",
      "going\n",
      "going\n",
      "existing\n",
      "including\n",
      "seeking\n",
      "making\n",
      "having\n",
      "going\n",
      "choosing\n",
      "being\n",
      "learning\n",
      "being\n",
      "driving\n",
      "During\n",
      "forthcoming\n",
      "manufacturing\n",
      "nothing\n",
      "fastest-growing\n",
      "kidnapping\n",
      "peacekeeping\n",
      "setting\n",
      "privatizing\n",
      "facing\n",
      "leaving\n",
      "during\n",
      "totaling\n",
      "Raising\n",
      "engaging\n",
      "opening\n",
      "going\n",
      "saying\n",
      "growing\n",
      "receiving\n",
      "looking\n",
      "creating\n",
      "serving\n",
      "spending\n",
      "getting\n",
      "creating\n",
      "bring\n",
      "amazing\n",
      "going\n",
      "bring\n",
      "arriving\n",
      "spending\n",
      "begging\n",
      "waiting\n"
     ]
    }
   ],
   "source": [
    "for line in sentenceFrame:\n",
    "    for word in line.split():\n",
    "        if word.endswith('ing'):\n",
    "            print (word)"
   ]
  },
  {
   "cell_type": "code",
   "execution_count": 6,
   "metadata": {
    "collapsed": false
   },
   "outputs": [
    {
     "data": {
      "text/plain": [
       "149"
      ]
     },
     "execution_count": 6,
     "metadata": {},
     "output_type": "execute_result"
    }
   ],
   "source": [
    "sorted(set(sentenceFrame))\n",
    "len(set(sentenceFrame))\n"
   ]
  },
  {
   "cell_type": "code",
   "execution_count": 21,
   "metadata": {
    "collapsed": false
   },
   "outputs": [
    {
     "data": {
      "text/plain": [
       "1.0"
      ]
     },
     "execution_count": 21,
     "metadata": {},
     "output_type": "execute_result"
    }
   ],
   "source": [
    "def lexical_diversity(sentenceFrame):\n",
    "    return (len(sentenceFrame)) / len(set(sentenceFrame))\n",
    "\n",
    "lexical_diversity(sentenceFrame)"
   ]
  },
  {
   "cell_type": "code",
   "execution_count": 8,
   "metadata": {
    "collapsed": false
   },
   "outputs": [],
   "source": [
    "tokens = set(sentenceFrame)\n",
    "tokens = sorted(tokens)\n"
   ]
  },
  {
   "cell_type": "code",
   "execution_count": 50,
   "metadata": {
    "collapsed": false
   },
   "outputs": [],
   "source": [
    "def find_features(textRead):\n",
    "    words = word_tokenize(textRead)\n",
    "    features = {}\n",
    "    for w in words_features:\n",
    "        features[w] = (w in words)\n",
    "        print (features)"
   ]
  },
  {
   "cell_type": "code",
   "execution_count": 29,
   "metadata": {
    "collapsed": false
   },
   "outputs": [
    {
     "data": {
      "text/plain": [
       "0    [When, did, the, decline, of, coal, start, ?, ...\n",
       "1    [Hillary, Clinton, agrees, with, John, McCain,...\n",
       "2    [Health, care, reform, legislation, is, likely...\n",
       "3    [The, economic, turnaround, started, at, the, ...\n",
       "4    [The, Chicago, Bears, have, had, more, startin...\n",
       "Name: Title, dtype: object"
      ]
     },
     "execution_count": 29,
     "metadata": {},
     "output_type": "execute_result"
    }
   ],
   "source": [
    "txt = sentenceFrame.apply(word_tokenize)\n",
    "txt.head()"
   ]
  },
  {
   "cell_type": "code",
   "execution_count": 63,
   "metadata": {
    "collapsed": false
   },
   "outputs": [
    {
     "name": "stdout",
     "output_type": "stream",
     "text": [
      "[['When', 'did', 'the', 'decline', 'of', 'coal', 'start', '?', 'It', 'started', 'when', 'natural', 'gas', 'took', 'off', 'that', 'started', 'to', 'begin', 'in', '(', 'President', 'George', 'W.', ')', 'Bushs', 'administration', '.'], ['Hillary', 'Clinton', 'agrees', 'with', 'John', 'McCain', '``', 'by', 'voting', 'to', 'give', 'George', 'Bush', 'the', 'benefit', 'of', 'the', 'doubt', 'on', 'Iran', '.', \"''\"], ['Health', 'care', 'reform', 'legislation', 'is', 'likely', 'to', 'mandate', 'free', 'sex', 'change', 'surgeries', '.'], ['The', 'economic', 'turnaround', 'started', 'at', 'the', 'end', 'of', 'my', 'term', '.'], ['The', 'Chicago', 'Bears', 'have', 'had', 'more', 'starting', 'quarterbacks', 'in', 'the', 'last', '10', 'years', 'than', 'the', 'total', 'number', 'of', 'tenured', '(', 'UW', ')', 'faculty', 'fired', 'during', 'the', 'last', 'two', 'decades', '.'], ['Jim', 'Dunnam', 'has', 'not', 'lived', 'in', 'the', 'district', 'he', 'represents', 'for', 'years', 'now', '.'], ['I', \"'m\", 'the', 'only', 'person', 'on', 'this', 'stage', 'who', 'has', 'worked', 'actively', 'just', 'last', 'year', 'passing', ',', 'along', 'with', 'Russ', 'Feingold', ',', 'some', 'of', 'the', 'toughest', 'ethics', 'reform', 'since', 'Watergate', '.'], ['However', ',', 'it', 'took', '$', '19.5', 'million', 'in', 'Oregon', 'Lottery', 'funds', 'for', 'the', 'Port', 'of', 'Newport', 'to', 'eventually', 'land', 'the', 'new', 'NOAA', 'Marine', 'Operations', 'Center-Pacific', '.'], ['Says', 'GOP', 'primary', 'opponents', 'Glenn', 'Grothman', 'and', 'Joe', 'Leibham', 'cast', 'a', 'compromise', 'vote', 'that', 'cost', '$', '788', 'million', 'in', 'higher', 'electricity', 'costs', '.'], ['For', 'the', 'first', 'time', 'in', 'history', ',', 'the', 'share', 'of', 'the', 'national', 'popular', 'vote', 'margin', 'is', 'smaller', 'than', 'the', 'Latino', 'vote', 'margin', '.'], ['Since', '2000', ',', 'nearly', '12', 'million', 'Americans', 'have', 'slipped', 'out', 'of', 'the', 'middle', 'class', 'and', 'into', 'poverty', '.'], ['When', 'Mitt', 'Romney', 'was', 'governor', 'of', 'Massachusetts', ',', 'we', 'didnt', 'just', 'slow', 'the', 'rate', 'of', 'growth', 'of', 'our', 'government', ',', 'we', 'actually', 'cut', 'it', '.'], ['The', 'economy', 'bled', '$', '24', 'billion', 'due', 'to', 'the', 'government', 'shutdown', '.'], ['Most', 'of', 'the', '(', 'Affordable', 'Care', 'Act', ')', 'has', 'already', 'in', 'some', 'sense', 'been', 'waived', 'or', 'otherwise', 'suspended', '.'], ['In', 'this', 'last', 'election', 'in', 'November', ',', '...', '63', 'percent', 'of', 'the', 'American', 'people', 'chose', 'not', 'to', 'vote', ',', '...', '80', 'percent', 'of', 'young', 'people', ',', '(', 'and', ')', '75', 'percent', 'of', 'low-income', 'workers', 'chose', 'not', 'to', 'vote', '.'], ['McCain', 'opposed', 'a', 'requirement', 'that', 'the', 'government', 'buy', 'American-made', 'motorcycles', '.', 'And', 'he', 'said', 'all', 'buy-American', 'provisions', 'were', 'quote', \"'disgraceful\", '.', \"'\"], ['U.S.', 'Rep.', 'Ron', 'Kind', ',', 'D-Wis.', ',', 'and', 'his', 'fellow', 'Democrats', 'went', 'on', 'a', 'spending', 'spree', 'and', 'now', 'their', 'credit', 'card', 'is', 'maxed', 'out'], ['Water', 'rates', 'in', 'Manila', ',', 'Philippines', ',', 'were', 'raised', 'up', 'to', '845', 'percent', 'when', 'a', 'subsidiary', 'of', 'the', 'World', 'Bank', 'became', 'a', 'partial', 'owner', '.'], ['Almost', '100,000', 'people', 'left', 'Puerto', 'Rico', 'last', 'year', '.'], ['Women', 'and', 'men', 'both', 'are', 'making', 'less', 'when', 'you', 'adjust', 'for', 'inflation', 'than', 'when', 'John', 'Kitzhaber', 'was', 'first', 'elected', 'governor', '.'], ['The', 'United', 'States', 'has', 'the', 'highest', 'corporate', 'tax', 'rate', 'in', 'the', 'free', 'world', '.'], ['We', 'just', 'had', 'the', 'best', 'year', 'for', 'the', 'auto', 'industry', 'in', 'America', 'in', 'history', '.'], ['Says', 'Scott', 'Walker', 'favors', 'cutting', 'up', 'to', '350,000', 'families', 'and', 'children', 'off', 'health', 'care', '.'], ['Says', 'Mitt', 'Romney', 'wants', 'to', 'get', 'rid', 'of', 'Planned', 'Parenthood', '.'], ['I', 'dont', 'know', 'who', '(', 'Jonathan', 'Gruber', ')', 'is', '.'], ['Hate', 'crimes', 'against', 'American', 'Muslims', 'and', 'mosques', 'have', 'tripled', 'after', 'Paris', 'and', 'San', 'Bernardino', '.'], ['Rick', 'Perry', 'has', 'never', 'lost', 'an', 'election', 'and', 'remains', 'the', 'only', 'person', 'to', 'have', 'won', 'the', 'Texas', 'governorship', 'three', 'times', 'in', 'landslide', 'elections', '.'], ['ISIS', 'supporter', 'tweeted', 'at', '10:34', 'a.m', '.', 'Shooting', 'began', 'at', '10:45', 'a.m.', 'in', 'Chattanooga', ',', 'Tenn', '.'], ['Youth', 'unemployment', 'in', 'minority', 'communities', 'is', 'about', '40', 'to', '45', 'percent', '.'], ['Says', 'Paul', 'Ryan', 'is', 'still', 'endorsing', 'Trump', '.'], ['If', 'you', 'look', 'at', 'states', 'that', 'are', 'right', 'to', 'work', ',', 'they', 'constantly', 'do', 'not', 'have', 'budget', 'deficits', 'and', 'they', 'have', 'very', 'good', 'business', 'climates', '.'], ['What', '(', 'the', 'Obama', 'administration', 'is', ')', 'going', 'to', 'come', 'out', 'with', 'in', 'the', 'next', 'several', 'months', 'is', 'youre', 'not', 'even', 'going', 'to', 'be', 'able', 'to', 'burn', 'coal', 'very', 'limitedly', 'in', 'the', 'existing', 'plants', '.'], ['We', 'cut', 'business', 'taxes', 'so', 'today', '70', 'percent', 'of', 'our', 'businesses', 'dont', 'pay', 'a', 'business', 'tax', '.'], ['Says', 'Mark', 'Pryor', 'votes', 'with', 'Obama', '93', 'percent', 'of', 'the', 'time', '.'], ['We', 'have', 'a', 'federal', 'government', 'that', 'thinks', 'they', 'have', 'the', 'authority', 'to', 'regulate', 'our', 'toilet', 'seats', '.'], ['Austin', 'is', 'a', 'city', 'that', 'has', 'basically', 'doubled', 'in', 'size', 'every', '25', 'years', 'or', 'so', 'since', 'it', 'was', 'founded', '.'], ['The', 'nuclear', 'test', 'conducted', 'in', 'our', 'nation', 'this', 'time', 'is', 'the', 'Earth', \"'s\", '2,054th', 'nuclear', 'test', '.', 'The', 'five', 'permanent', 'members', 'of', 'the', 'U.N.', 'Security', 'Council', 'have', 'conducted', '99.99', 'percent', 'of', 'the', 'total', 'nuclear', 'tests', '.'], ['In', 'the', 'case', 'of', 'a', 'catastrophic', 'event', ',', 'the', 'Atlanta-area', 'offices', 'of', 'the', 'Centers', 'for', 'Disease', 'Control', 'and', 'Prevention', 'will', 'self-destruct', '.'], ['Under', 'President', 'George', 'W.', 'Bush', ',', 'we', 'added', '$', '4.9', 'trillion', 'to', 'the', 'debt', '.', 'Under', 'President', 'Obama', 'weve', 'added', '$', '6.5', 'trillion', 'to', 'the', 'debt', '.'], ['Says', 'a', 'U.S.', 'Supreme', 'Court', 'justice', 'suggested', 'that', 'some', 'U.S.', 'cases', 'will', 'be', 'decided', 'based', 'on', 'South', 'African', 'law', '.'], ['Says', 'Marco', 'Rubio', 'skipped', '18', 'defense', 'votes', 'including', 'one', 'to', 'arm', 'the', 'Kurds', 'to', 'fight', 'ISIS', '.'], ['Rep.', 'David', 'Cicilline', 'is', 'responsible', 'for', 'the', 'federal', 'loan', 'guarantee', 'to', 'Solyndra', ',', 'the', 'failed', 'solar', 'company'], ['Says', 'Ohio', 'budget', 'item', 'later', 'signed', 'into', 'law', 'by', 'Gov', '.', 'John', 'Kasich', 'requires', 'women', 'seeking', 'an', 'abortion', 'to', 'undergo', 'a', 'mandatory', 'vaginal', 'probe', '.'], ['We', 'have', 'a', 'director', 'of', 'homeland', 'security', 'who', 'can', 'not', 'use', 'and', 'will', 'not', 'use', 'the', 'term', \"'terrorist\", 'attack', \"'\", 'but', 'instead', 'substitutes', \"'man-made\", 'disaster', '.', \"'\"], ['African-American', 'youth', 'unemployment', 'is', '51', 'percent', '.', 'Hispanic', 'youth', 'unemployment', 'is', '36', 'percent', '.'], ['Obamacare', 'will', 'provide', 'insurance', 'to', 'all', 'non-U.S.', 'residents', ',', 'even', 'if', 'they', 'are', 'here', 'illegally', '.'], ['President', 'Barack', 'Obama', 'took', 'exactly', 'none', 'of', 'his', 'own', 'deficit', 'reduction', 'commissions', 'ideas', '.', 'Not', 'one', '.'], ['It', 'was', 'under', 'Barack', 'Obama', 'and', 'Hillary', 'Clinton', 'that', 'changed', 'the', 'rules', 'of', 'engagement', 'that', 'probably', 'cost', '(', 'Capt', '.', 'Humayun', 'Khans', ')', 'life', '.'], ['Hillary', 'Clinton', 'in', '2005', 'co-sponsored', 'legislation', 'that', 'would', 'jail', 'flag', 'burners', '.'], ['Says', 'the', 'paperback', 'edition', 'of', 'Mitt', 'Romneys', 'book', 'deleted', 'line', 'that', 'Massachusetts', 'individual', 'mandate', 'should', 'be', 'the', 'model', 'for', 'the', 'country'], ['Maggie', 'Hassan', 'raised', 'tuition', ',', 'making', 'it', 'the', 'highest', 'in', 'America', '.'], ['Says', 'Terry', 'McAuliffe', 'is', 'the', 'person', 'who', 'invented', 'the', 'scheme', 'to', 'rent', 'out', 'the', 'Lincoln', 'Bedroom', '.'], ['We', 'created', '800,000', 'new', 'jobs', ',', 'we', 'cut', 'the', 'unemployment', 'rate', 'almost', 'in', 'half', 'and', 'today', 'New', 'York', 'State', 'has', 'more', 'private', 'sector', 'jobs', 'than', 'it', 'has', 'ever', 'had', 'in', 'its', 'history'], ['We', 'have', 'towns', 'in', 'West', 'Texas', 'that', 'are', 'out', 'of', 'water', ',', 'that', 'are', 'having', 'to', 'truck', 'in', 'water', '.'], ['In', 'Georgia', ',', 'women', 'earn', '82', 'cents', 'for', 'every', 'dollar', 'earned', 'by', 'men', '.'], ['A', 'federal', 'system', 'that', 'verifies', 'employees', 'are', 'authorized', 'to', 'work', 'in', 'the', 'U.S.', 'is', 'inaccurate', 'anywhere', 'from', '50', 'percent', 'all', 'the', 'way', 'up', 'to', 'in', 'excess', 'of', '80', 'percent', 'of', 'the', 'time', '.'], ['They', 'were', 'going', 'to', 'build', 'the', 'wall', 'a', 'while', 'ago', ',', 'not', 'so', 'long', 'ago', ',', 'like', 'in', '06', '.', 'And', 'they', 'couldnt', 'get', 'environmental', 'impact', 'statements', '.'], ['Sen.', 'Obama', \"'s\", 'campaign', 'announced', 'that', 'he', \"'s\", 'choosing', 'his', 'cabinet', '.'], ['In', '2008', ',', 'only', '54', 'percent', 'of', 'Latinos', 'in', 'Texas', 'were', 'registered', 'to', 'vote', 'and', 'only', '35', 'percent', 'actually', 'turned', 'out', '.'], ['Only', '2', 'percent', 'of', 'public', 'high', 'schools', 'in', 'the', 'country', 'offer', 'PE', 'classes', '.'], ['Said', 'he', \"'s\", 'the', 'only', 'Republican', 'candidate', '``', 'who', \"'s\", 'actually', 'turned', 'around', 'a', 'government', 'economy', '.', \"''\"], ['On', 'military', 'recruiters', 'at', 'Harvard', ',', 'Elena', 'Kagan', '``', 'took', 'a', 'position', 'and', 'the', 'Supreme', 'Court', 'ruled', 'unanimously', 'that', 'she', 'was', 'wrong', '.', \"''\"], ['There', 'are', '321,092', 'public', 'school', 'teachers', 'in', 'Texas', '.', 'And', 'there', 'are', '313,850', 'non-teachers', 'in', 'our', 'public', 'schools', '.'], ['Under', 'Mayor', 'Cicilline', ',', '[', 'Providence', ']', 'was', 'a', 'sanctuary', 'city', '.'], ['Transgender', 'individuals', 'in', 'the', 'U.S.', 'have', 'a', '1-in-12', 'chance', 'of', 'being', 'murdered', '.'], ['At', 'Bain', 'Capital', ',', 'we', 'helped', 'start', 'an', 'early', 'childhood', 'learning', 'company', 'called', 'Bright', 'Horizons', 'that', 'First', 'Lady', 'Michelle', 'Obama', 'rightly', 'praised', '.'], ['Says', 'the', 'man', 'who', 'rushed', 'the', 'stage', 'at', 'him', 'in', 'Dayton', ',', 'Ohio', ',', 'had', 'chatter', 'about', 'ISIS', ',', 'or', 'with', 'ISIS', 'in', 'his', 'social', 'media', 'posts', '.'], ['U.S.', 'Rep.', 'Phil', 'Gingrey', 'gave', 'the', 'government', 'the', 'power', 'to', 'electronically', 'spy', 'on', 'Americans', 'without', 'a', 'warrant', '.'], ['Alex', 'Sink', 'funneled', 'three', 'quarters', 'of', 'a', 'million', 'dollars', 'in', 'no-bid', 'contracts', 'to', 'Bank', 'of', 'America', '.'], ['If', 'you', 'take', 'the', 'population', 'growth', 'here', 'in', 'Virginia', ',', 'we', 'are', 'net', 'zero', 'on', 'job', 'creation', 'since', '(', 'Bob', 'McDonnell', ')', 'became', 'governor', '.'], ['Under', 'Obama', ',', 'home', 'values', 'in', 'Florida', 'collapsed', ',', 'construction', 'jobs', 'were', 'lost', 'and', 'the', 'state', 'had', 'a', 'high', 'foreclosure', 'rate', '.'], ['The', 'new', 'Arizona', 'immigration', 'law', '``', 'says', 'that', 'any', 'police', 'officer', 'can', 'stop', 'anyone', 'who', 'appears', 'to', 'them', 'to', 'be', 'reasonably', 'suspicious', 'of', 'being', 'an', 'undocumented', 'person', '.', \"''\"], ['The', 'only', 'time', 'in', 'our', 'history', 'when', 'the', 'debt', 'has', 'been', 'higher', 'than', 'this', 'was', 'the', 'end', 'of', 'World', 'War', 'II', '.'], ['The', 'cost', 'of', 'health', 'care', 'is', 'now', 'the', 'single-biggest', 'factor', 'driving', 'down', 'the', 'federal', 'budget', 'deficit', '.'], ['During', 'the', 'recession', ',', 'the', 'consumer', 'in', 'his', 'native', 'perversity', 'has', 'begun', 'to', 'save', '.', 'The', 'savings', 'rate', 'is', 'now', '6.2', 'percent', '.'], ['On', 'whether', 'a', 'U.S.', 'Supreme', 'Court', 'nominee', 'should', 'be', 'forthcoming', 'at', 'confirmation', 'hearings', '.'], ['Says', 'one', 'out', 'of', 'three', 'U.S.', 'homeless', 'men', 'is', 'a', 'veteran', '.'], ['Says', 'Charlie', 'Crist', 'supports', 'cuts', 'to', 'the', 'Medicare', 'Advantage', 'program', '.'], ['I', 'think', 'it', 'is', 'unacceptable', 'for', 'the', 'Chinese', 'today', 'to', 'be', 'larger', 'in', 'wind', 'power', 'and', 'in', 'solar', 'panels', 'and', 'photovoltaic', 'manufacturing', 'than', 'all', 'of', 'Europe', 'put', 'together', '--', 'forget', 'the', 'United', 'States', '.'], ['Says', 'Scott', 'Brown', 'co-sponsored', 'legislation', 'to', 'let', 'employers', 'deny', 'women', 'coverage', 'for', 'birth', 'control', '.'], ['At', 'some', 'point', 'in', 'their', 'lives', ',', '99', '%', 'of', 'women', 'use', 'birth', 'control', '.'], ['In', 'the', 'past', '20', 'years', ',', 'Egypt', 'has', 'made', 'great', 'strides', 'in', 'political', 'and', 'democratic', 'reform', '.'], ['The', 'amount', 'of', 'attention', 'paid', 'this', 'week', 'to', 'Chris', 'Christie', 'makes', 'the', 'coverage', 'of', 'Benghazi', '...', 'pale', 'in', 'significance', '.'], ['Says', 'U.S.', 'Rep.', 'Steve', 'Southerland', 'voted', 'to', 'keep', 'the', 'shutdown', 'going', '.'], ['In', 'Rick', 'Perrys', 'Texas', ',', 'we', 'import', 'nurses', '...', 'from', 'other', 'countries', '.'], ['There', 'is', 'a', 'federal', 'criminal', 'law', 'that', 'says', 'its', 'a', 'crime', 'to', 'transport', 'dentures', 'across', 'state', 'lines', '.'], ['We', 'built', 'a', 'new', 'prison', 'every', '10', 'days', 'between', '1990', 'and', '2005', 'to', 'keep', 'up', 'with', 'our', 'mass', 'incarceration', 'explosion', 'of', 'nonviolent', 'offenders', '.'], ['Sen.', 'McCain', \"'s\", 'tax', 'plan', 'provides', '``', 'virtually', 'nothing', 'to', 'the', 'middle', 'class', '.', \"''\"], ['Austin', 'is', 'burdened', 'by', 'the', 'fastest-growing', 'tax', 'increases', 'of', 'any', 'major', 'city', 'in', 'the', 'nation', '.'], ['Phoenix', ',', 'Arizona', ',', 'is', 'the', 'No', '.', '2', 'kidnapping', 'capital', 'of', 'the', 'world', '.'], ['I', 'belong', 'to', 'the', 'AFL-CIO', '.'], ['The', 'insurance', 'commissioner', 'cant', 'do', 'squat', 'about', 'health', 'care', '.'], ['Says', 'a', 'poll', 'found', 'him', 'the', 'only', 'Republican', 'candidate', 'who', 'could', 'beat', 'Barack', 'Obama', 'in', 'Texas', '--', 'and', 'by', 'eight', 'points', '.'], ['President', 'Ronald', 'Reagan', 'sent', 'troops', 'into', 'conflict', 'only', 'in', 'one', 'circumstance', ',', 'which', 'was', 'in', 'Grenada', 'We', 'were', 'in', 'a', 'peacekeeping', 'setting', 'in', 'Lebanon', '.'], ['Says', 'David', 'Jolly', 'supports', 'privatizing', 'Social', 'Security', '.'], ['Did', 'you', 'know', 'US', 'population', 'growth', 'is', 'at', 'its', 'lowest', 'since', 'the', 'Great', 'Depression', '?'], ['The', 'average', 'student', 'in', 'Florida', ',', 'what', 'they', 'actually', 'pay', 'out', 'of', 'pocket', 'at', 'our', 'major', 'universities', 'for', 'tuition', 'is', 'as', 'much', 'or', 'less', 'than', 'what', 'they', 'spend', 'on', 'cellphones', '.'], ['Since', '1968', ',', 'more', 'Americans', 'have', 'died', 'from', 'gunfire', 'than', 'died', 'in', 'all', 'the', 'wars', 'of', 'this', 'countrys', 'history', '.'], ['A', 'foreclosure', 'tax', 'that', 'would', 'take', 'effect', 'in', '2013', 'could', 'mean', 'a', 'high', 'tax', 'bill', 'for', 'those', 'facing', 'foreclosure', 'and', 'millions', 'of', 'families', 'who', 'modified', 'their', 'mortgage', 'or', 'had', 'a', 'short', 'sale', 'through', 'their', 'lender', '.'], ['The', 'Florida', 'Department', 'of', 'Agricultures', 'website', 'FreshFromFlorida.com', 'can', 'be', 'used', 'to', 'get', 'a', 'permit', 'to', 'carry', 'a', 'loaded', 'hidden', 'gun', 'without', 'ever', 'leaving', 'your', 'house', '.'], ['The', 'Atlanta', 'streetcar', 'is', 'expected', 'to', 'create', '930', 'jobs', 'during', 'construction', ',', 'totaling', 'more', 'than', '5,600', 'jobs', 'over', 'the', 'next', '20', 'years', '.'], ['Raising', 'the', 'minimum', 'wage', 'to', '$', '10.10', 'an', 'hour', ',', 'would', 'help', 'lift', 'over', 'a', 'million', 'Americans', 'out', 'of', 'poverty', '.'], ['Says', 'Secretary', 'of', 'State', 'John', 'Kerry', ',', 'when', 'he', 'was', 'a', 'senator', ',', 'flew', 'to', 'Managua', 'and', 'met', 'with', 'a', 'communist', 'dictator', 'there', ',', 'Daniel', 'Ortega', ',', 'and', 'accused', 'the', 'Reagan', 'administration', 'of', 'engaging', 'in', 'terrorism', '.'], ['NATO', 'is', 'opening', 'up', 'a', 'major', 'terror', 'division', '.', '...', 'Im', 'sure', 'Im', 'not', 'going', 'to', 'get', 'credit', 'for', 'it', ',', 'but', 'that', 'was', 'largely', 'because', 'of', 'what', 'I', 'was', 'saying', 'and', 'my', 'criticism', 'of', 'NATO', '.'], ['Sen.', 'Obama', 'has', 'always', 'had', 'a', '100', 'percent', 'prochoice', 'rating', '.'], ['Since', 'Gina', 'Raimondo', 'took', 'office', ',', 'investment', 'fees', 'on', 'the', 'states', 'pension', 'portfolio', 'have', 'gone', 'up', 'from', 'about', '$', '12', 'million', 'annually', 'to', 'about', '$', '50', 'million', '.'], ['The', '(', 'federal', ')', 'debt', 'is', 'growing', 'by', 'more', 'than', '$', '4', 'billion', 'a', 'day', '.'], ['Under', 'President', 'Barack', 'Obamas', 'jobs', 'bill', ',', 'states', 'would', 'no', 'longer', 'have', 'to', 'lay', 'off', 'teachers', ',', 'firefighters', 'and', 'police', 'officers', '.'], ['Of', 'our', '98,000', 'teachers', 'who', 'are', 'K-12', ',', 'over', '53,000', 'of', 'those', 'teachers', 'today', 'are', 'over', '50', 'years', 'old', '.'], ['Two-thirds', 'of', 'Wisconsinites', 'receiving', 'unemployment', 'checks', 'are', 'not', 'required', 'to', 'search', 'for', 'work', 'due', 'to', 'current', 'work', 'search', 'exemptions', '.'], ['Under', 'President', 'Obamas', 'health-care', 'reforms', ',', 'the', 'premium', 'for', 'an', 'average', 'plan', 'for', 'a', 'family', 'didnt', 'go', 'down', 'by', '$', '2,500', 'per', 'year', ',', 'its', 'gone', 'up', 'about', '$', '2,500', 'per', 'year', '.'], ['The', 'IRS', 'also', 'investigated', 'liberal', 'groups', ',', 'groups', 'that', 'had', 'progressive', 'in', 'their', 'name', '.', '...', 'The', 'IRS', 'was', 'basically', 'looking', 'at', 'everybody', '.'], ['Says', 'Obama', 'promised', 'unemployment', 'would', 'never', 'go', 'above', '8', 'percent', '.'], ['The', 'economy', 'is', 'creating', 'jobs', 'at', 'the', 'fastest', 'pace', 'since', '1999', '.'], ['President', 'Obama', 'decided', 'not', 'to', 'meet', 'with', 'Prime', 'Minister', 'Benjamin', 'Netanyahu', 'in', 'New', 'York', '.'], ['In', 'a', 'majority', 'of', 'states', ',', 'you', 'can', 'now', 'marry', 'freely', ',', 'but', 'can', 'still', 'be', 'fired', 'for', 'who', 'you', 'love', '.'], ['Say', 'Oregon', 'Reps.', 'Peter', 'DeFazio', 'and', 'Earl', 'Blumenauer', 'are', 'socialists', 'who', 'are', 'openly', 'serving', 'in', 'the', 'U.S.', 'Congress', '.'], ['Rudy', 'Giuliani', 'is', '``', 'probably', 'the', 'most', 'underqualified', 'man', 'since', 'George', 'Bush', 'to', 'seek', 'the', 'presidency', '.', \"''\"], ['About', 'half', 'of', 'the', 'presidents', 'have', 'been', 'governors', ';', 'half', 'of', 'them', ',', 'senators', '.'], ['After', 'Britains', 'vote', 'to', 'leave', 'the', 'European', 'Union', ',', 'within', '24', 'hours', ',', 'Americans', 'lost', '$', '100', 'billion', 'from', 'our', '401', '(', 'k', ')', 's', '.'], ['Medicaid', 'spending', 'declined', 'by', '1.9', 'percent', 'in', '2012', ',', 'the', 'second', 'such', 'decline', 'in', '47', 'years', '.'], ['Says', '88', 'Texas', 'constables', 'have', 'died', 'in', 'the', 'line', 'of', 'duty', '.'], ['Gov', '.', 'Rick', 'Scott', 'cut', 'the', 'cost', 'of', 'prepaid', 'college', 'tuition', 'by', 'nearly', '$', '20,000', '.'], ['The', 'city', 'of', 'Columbus', 'would', 'save', '$', '41', 'million', 'a', 'year', 'if', 'employees', 'had', 'to', 'contribute', 'to', 'their', 'own', ',', 'guaranteed-check', 'pensions', '.'], ['As', 'Florida', \"'s\", 'CFO', ',', 'I', 'shut', 'down', 'Krakow', \"'s\", 'scam', 'and', 'refunded', 'more', 'than', '$', '1.2', 'million', 'to', 'Josephine', 'and', 'other', 'victims', 'of', 'this', 'con', 'man', '.'], ['You', 'had', 'more', 'women', 'getting', 'computer', 'sciences', 'degrees', 'in', 'the', '80s', 'by', 'a', 'factor', 'of', '2-plus', 'than', 'you', 'do', 'now', '.'], ['The', 'Air', 'Force', 'wants', 'taxpayers', 'to', 'fund', 'a', 'fantasy', 'football', 'league', '.'], ['Barack', 'Hussein', 'Obama', 'will', '...', 'force', 'courts', 'to', 'accept', 'Islamic', 'Sharia', 'law', 'in', 'domestic', 'disputes', '.'], ['About', '3', 'percent', 'of', 'murders', 'and', 'crimes', 'are', 'committed', 'with', 'guns', 'from', 'people', 'who', 'actually', '(', 'legally', ')', 'purchase', 'those', 'guns', '.'], ['Some', 'neighborhood', 'schools', 'are', 'closing', '.'], ['He', 'told', 'gay', 'organizers', 'in', 'Massachusetts', 'he', 'would', 'be', 'a', 'stronger', 'advocate', 'for', 'special', 'rights', 'than', 'even', 'Ted', 'Kennedy', '.'], ['The', 'years', 'that', 'I', 'was', 'speaker', ',', 'the', 'Florida', 'House', 'consistently', 'offered', 'leaner', 'budgets', 'than', 'the', 'governor', 'offered', '.'], ['We', 'are', 'already', 'almost', 'halfway', 'to', 'our', '2010', 'goal', 'of', 'creating', '700,000', 'new', 'jobs', 'in', 'seven', 'years', '.'], ['Says', 'the', 'U.S.', 'Supreme', 'Court', 'found', 'that', 'Social', 'Security', 'is', 'not', 'guaranteed', '.'], ['SaysMichael', 'Bennet', 'wants', 'to', 'close', 'Guantanamo', 'Bay', 'prisonand', 'bring', 'terrorists', 'right', 'here', 'to', 'Colorado', '.'], ['Oregonians', 'have', 'an', 'amazing', 'no-cost', 'way', 'to', 'fight', 'abortion', 'with', 'free', 'political', 'donations'], ['The', 'president', 'said', 'hes', 'going', 'to', 'bring', 'in', '250,000', '(', 'Syrian', 'and', 'Iraqi', ')', 'refugees', 'into', 'this', 'country', '.'], ['Research', 'shows', 'that', 'a', 'vast', 'majority', 'of', 'arriving', 'immigrants', 'today', 'come', 'here', 'because', 'they', 'believe', 'that', 'government', 'is', 'the', 'source', 'of', 'prosperity', ',', 'and', 'thats', 'what', 'they', 'support', '.'], ['Newt', 'Gingrichs', 'immigration', 'plan', 'offers', 'a', 'new', 'doorway', 'to', 'amnesty', '.'], ['Mr.', 'Caprio', 'is', 'a', 'career', 'politician', 'who', 'has', 'never', 'worked', 'in', 'the', 'private', 'sector', '.'], ['In', 'Rhode', 'Island', ',', '9', 'percent', 'of', 'workers', 'use', 'the', 'states', 'temporary', 'disability', 'insurance', 'program', 'each', 'year', 'while', 'in', 'New', 'Jersey', ',', 'the', 'rate', 'is', 'only', '3', 'percent', '.'], ['In', 'just', '17', 'years', ',', 'spending', 'for', 'Social', 'Security', ',', 'federal', 'health', 'care', 'and', 'interest', 'on', 'the', 'debt', 'will', 'exceed', 'ALL', 'tax', 'revenue', '!'], ['President', 'Obama', 'took', 'more', 'money', 'from', 'Wall', 'Street', 'in', 'the', '2008', 'campaign', 'than', 'anybody', 'ever', 'had', '.'], ['Donald', 'Trump', 'has', 'said', 'nuclear', 'proliferation', 'is', 'OK', '.'], ['Hillary', 'Clinton', 'has', 'taken', 'over', '$', '800,000', 'from', 'lobbyists', '.'], ['Barack', 'Obama', 'has', 'never', 'even', 'worked', 'in', 'business', '.'], ['Says', 'the', 'Arizona', 'immigration', 'law', 'expressly', 'bans', 'racial', 'profiling', '.'], ['Says', 'Gov', '.', 'Rick', 'Perry', 'has', 'been', 'begging', 'for', 'the', 'federal', 'government', 'to', 'send', 'the', 'Coast', 'Guard', 'to', 'patrol', 'two', 'lakes', 'on', 'the', 'U.S.-Mexico', 'border', '.'], ['On', 'the', 'VA', ':', 'Over', '300,000', 'veterans', 'have', 'died', 'waiting', 'for', 'care', '.']]\n"
     ]
    }
   ],
   "source": [
    "with open(\"stop_words.txt\", 'r') as f:\n",
    "    stopwords = f.read().split(\"\\n\")\n",
    "\n",
    "filtered_sentence = [w for w in txt if not w in stopwords]\n",
    "\n",
    "filtered_sentence = []\n",
    "\n",
    "for w in txt:\n",
    "    if w not in stopwords:\n",
    "        filtered_sentence.append(w)\n",
    "\n",
    "#print(txt)\n",
    "print(filtered_sentence)\n",
    "filtered_sentence = pd.DataFrame(filtered_sentence)"
   ]
  },
  {
   "cell_type": "code",
   "execution_count": 69,
   "metadata": {
    "collapsed": false
   },
   "outputs": [],
   "source": [
    "def make_sets(filtered_sentence, test_portion):\n",
    "    tot_ix = range(len(filtered_sentence))\n",
    "    test_ix = sorted(random.sample(tot_ix, int(test_portion * len(filtered_sentence))))\n",
    "    train_ix = list(set(tot_ix) ^ set(test_ix))\n",
    "\n",
    "    test_df = filtered_sentence.ix[test_ix]\n",
    "    train_df = filtered_sentence.ix[train_ix]\n",
    "\n",
    "    return train_df, test_df\n",
    "\n",
    "\n",
    "train_df, test_df = make_sets(filtered_sentence, 0.2)"
   ]
  },
  {
   "cell_type": "code",
   "execution_count": 75,
   "metadata": {
    "collapsed": false
   },
   "outputs": [
    {
     "ename": "ValueError",
     "evalue": "The truth value of a DataFrame is ambiguous. Use a.empty, a.bool(), a.item(), a.any() or a.all().",
     "output_type": "error",
     "traceback": [
      "\u001b[0;31m---------------------------------------------------------------------------\u001b[0m",
      "\u001b[0;31mValueError\u001b[0m                                Traceback (most recent call last)",
      "\u001b[0;32m<ipython-input-75-80efbb60a10e>\u001b[0m in \u001b[0;36m<module>\u001b[0;34m()\u001b[0m\n\u001b[0;32m----> 1\u001b[0;31m \u001b[0mcustom_sent_tokenizer\u001b[0m \u001b[0;34m=\u001b[0m \u001b[0mPunktSentenceTokenizer\u001b[0m\u001b[0;34m(\u001b[0m\u001b[0mtrain_df\u001b[0m\u001b[0;34m)\u001b[0m\u001b[0;34m\u001b[0m\u001b[0m\n\u001b[0m\u001b[1;32m      2\u001b[0m \u001b[0mtokenized\u001b[0m \u001b[0;34m=\u001b[0m \u001b[0mcustom_sent_tokenizer\u001b[0m\u001b[0;34m.\u001b[0m\u001b[0mtokenize\u001b[0m\u001b[0;34m(\u001b[0m\u001b[0mtest_df\u001b[0m\u001b[0;34m)\u001b[0m\u001b[0;34m\u001b[0m\u001b[0m\n",
      "\u001b[0;32m/Users/samanthalee/anaconda/lib/python3.5/site-packages/nltk/tokenize/punkt.py\u001b[0m in \u001b[0;36m__init__\u001b[0;34m(self, train_text, verbose, lang_vars, token_cls)\u001b[0m\n\u001b[1;32m   1202\u001b[0m                 token_cls=token_cls)\n\u001b[1;32m   1203\u001b[0m \u001b[0;34m\u001b[0m\u001b[0m\n\u001b[0;32m-> 1204\u001b[0;31m         \u001b[0;32mif\u001b[0m \u001b[0mtrain_text\u001b[0m\u001b[0;34m:\u001b[0m\u001b[0;34m\u001b[0m\u001b[0m\n\u001b[0m\u001b[1;32m   1205\u001b[0m             \u001b[0mself\u001b[0m\u001b[0;34m.\u001b[0m\u001b[0m_params\u001b[0m \u001b[0;34m=\u001b[0m \u001b[0mself\u001b[0m\u001b[0;34m.\u001b[0m\u001b[0mtrain\u001b[0m\u001b[0;34m(\u001b[0m\u001b[0mtrain_text\u001b[0m\u001b[0;34m,\u001b[0m \u001b[0mverbose\u001b[0m\u001b[0;34m)\u001b[0m\u001b[0;34m\u001b[0m\u001b[0m\n\u001b[1;32m   1206\u001b[0m \u001b[0;34m\u001b[0m\u001b[0m\n",
      "\u001b[0;32m/Users/samanthalee/anaconda/lib/python3.5/site-packages/pandas/core/generic.py\u001b[0m in \u001b[0;36m__nonzero__\u001b[0;34m(self)\u001b[0m\n\u001b[1;32m    890\u001b[0m         raise ValueError(\"The truth value of a {0} is ambiguous. \"\n\u001b[1;32m    891\u001b[0m                          \u001b[0;34m\"Use a.empty, a.bool(), a.item(), a.any() or a.all().\"\u001b[0m\u001b[0;34m\u001b[0m\u001b[0m\n\u001b[0;32m--> 892\u001b[0;31m                          .format(self.__class__.__name__))\n\u001b[0m\u001b[1;32m    893\u001b[0m \u001b[0;34m\u001b[0m\u001b[0m\n\u001b[1;32m    894\u001b[0m     \u001b[0m__bool__\u001b[0m \u001b[0;34m=\u001b[0m \u001b[0m__nonzero__\u001b[0m\u001b[0;34m\u001b[0m\u001b[0m\n",
      "\u001b[0;31mValueError\u001b[0m: The truth value of a DataFrame is ambiguous. Use a.empty, a.bool(), a.item(), a.any() or a.all()."
     ]
    }
   ],
   "source": [
    "custom_sent_tokenizer = PunktSentenceTokenizer(train_df)\n",
    "tokenized = custom_sent_tokenizer.tokenize(test_df)"
   ]
  },
  {
   "cell_type": "code",
   "execution_count": null,
   "metadata": {
    "collapsed": true
   },
   "outputs": [],
   "source": []
  },
  {
   "cell_type": "code",
   "execution_count": 12,
   "metadata": {
    "collapsed": false
   },
   "outputs": [
    {
     "ename": "TypeError",
     "evalue": "unorderable types: str() >= int()",
     "output_type": "error",
     "traceback": [
      "\u001b[0;31m---------------------------------------------------------------------------\u001b[0m",
      "\u001b[0;31mTypeError\u001b[0m                                 Traceback (most recent call last)",
      "\u001b[0;32m<ipython-input-12-4961eb7ef1e6>\u001b[0m in \u001b[0;36m<module>\u001b[0;34m()\u001b[0m\n\u001b[1;32m      4\u001b[0m \u001b[0;34m\u001b[0m\u001b[0m\n\u001b[1;32m      5\u001b[0m \u001b[0;31m# Shuffle the indices for the matrix.\u001b[0m\u001b[0;34m\u001b[0m\u001b[0;34m\u001b[0m\u001b[0m\n\u001b[0;32m----> 6\u001b[0;31m \u001b[0mindices\u001b[0m \u001b[0;34m=\u001b[0m \u001b[0msample\u001b[0m\u001b[0;34m(\u001b[0m\u001b[0mrange\u001b[0m\u001b[0;34m(\u001b[0m\u001b[0;36m1\u001b[0m\u001b[0;34m)\u001b[0m\u001b[0;34m,\u001b[0m \u001b[0msentenceFrame\u001b[0m\u001b[0;34m)\u001b[0m\u001b[0;34m\u001b[0m\u001b[0m\n\u001b[0m\u001b[1;32m      7\u001b[0m \u001b[0mrandom\u001b[0m\u001b[0;34m.\u001b[0m\u001b[0mshuffle\u001b[0m\u001b[0;34m(\u001b[0m\u001b[0mindices\u001b[0m\u001b[0;34m)\u001b[0m\u001b[0;34m\u001b[0m\u001b[0m\n\u001b[1;32m      8\u001b[0m \u001b[0;34m\u001b[0m\u001b[0m\n",
      "\u001b[0;32m/Users/samanthalee/anaconda/lib/python3.5/random.py\u001b[0m in \u001b[0;36msample\u001b[0;34m(self, population, k)\u001b[0m\n\u001b[1;32m    312\u001b[0m         \u001b[0mrandbelow\u001b[0m \u001b[0;34m=\u001b[0m \u001b[0mself\u001b[0m\u001b[0;34m.\u001b[0m\u001b[0m_randbelow\u001b[0m\u001b[0;34m\u001b[0m\u001b[0m\n\u001b[1;32m    313\u001b[0m         \u001b[0mn\u001b[0m \u001b[0;34m=\u001b[0m \u001b[0mlen\u001b[0m\u001b[0;34m(\u001b[0m\u001b[0mpopulation\u001b[0m\u001b[0;34m)\u001b[0m\u001b[0;34m\u001b[0m\u001b[0m\n\u001b[0;32m--> 314\u001b[0;31m         \u001b[0;32mif\u001b[0m \u001b[0;32mnot\u001b[0m \u001b[0;36m0\u001b[0m \u001b[0;34m<=\u001b[0m \u001b[0mk\u001b[0m \u001b[0;34m<=\u001b[0m \u001b[0mn\u001b[0m\u001b[0;34m:\u001b[0m\u001b[0;34m\u001b[0m\u001b[0m\n\u001b[0m\u001b[1;32m    315\u001b[0m             \u001b[0;32mraise\u001b[0m \u001b[0mValueError\u001b[0m\u001b[0;34m(\u001b[0m\u001b[0;34m\"Sample larger than population\"\u001b[0m\u001b[0;34m)\u001b[0m\u001b[0;34m\u001b[0m\u001b[0m\n\u001b[1;32m    316\u001b[0m         \u001b[0mresult\u001b[0m \u001b[0;34m=\u001b[0m \u001b[0;34m[\u001b[0m\u001b[0;32mNone\u001b[0m\u001b[0;34m]\u001b[0m \u001b[0;34m*\u001b[0m \u001b[0mk\u001b[0m\u001b[0;34m\u001b[0m\u001b[0m\n",
      "\u001b[0;32m/Users/samanthalee/anaconda/lib/python3.5/site-packages/pandas/core/ops.py\u001b[0m in \u001b[0;36mwrapper\u001b[0;34m(self, other, axis)\u001b[0m\n\u001b[1;32m    761\u001b[0m                 \u001b[0mother\u001b[0m \u001b[0;34m=\u001b[0m \u001b[0mnp\u001b[0m\u001b[0;34m.\u001b[0m\u001b[0masarray\u001b[0m\u001b[0;34m(\u001b[0m\u001b[0mother\u001b[0m\u001b[0;34m)\u001b[0m\u001b[0;34m\u001b[0m\u001b[0m\n\u001b[1;32m    762\u001b[0m \u001b[0;34m\u001b[0m\u001b[0m\n\u001b[0;32m--> 763\u001b[0;31m             \u001b[0mres\u001b[0m \u001b[0;34m=\u001b[0m \u001b[0mna_op\u001b[0m\u001b[0;34m(\u001b[0m\u001b[0mvalues\u001b[0m\u001b[0;34m,\u001b[0m \u001b[0mother\u001b[0m\u001b[0;34m)\u001b[0m\u001b[0;34m\u001b[0m\u001b[0m\n\u001b[0m\u001b[1;32m    764\u001b[0m             \u001b[0;32mif\u001b[0m \u001b[0misscalar\u001b[0m\u001b[0;34m(\u001b[0m\u001b[0mres\u001b[0m\u001b[0;34m)\u001b[0m\u001b[0;34m:\u001b[0m\u001b[0;34m\u001b[0m\u001b[0m\n\u001b[1;32m    765\u001b[0m                 raise TypeError('Could not compare %s type with Series' %\n",
      "\u001b[0;32m/Users/samanthalee/anaconda/lib/python3.5/site-packages/pandas/core/ops.py\u001b[0m in \u001b[0;36mna_op\u001b[0;34m(x, y)\u001b[0m\n\u001b[1;32m    681\u001b[0m                     \u001b[0mresult\u001b[0m \u001b[0;34m=\u001b[0m \u001b[0mlib\u001b[0m\u001b[0;34m.\u001b[0m\u001b[0mvec_compare\u001b[0m\u001b[0;34m(\u001b[0m\u001b[0mx\u001b[0m\u001b[0;34m,\u001b[0m \u001b[0my\u001b[0m\u001b[0;34m,\u001b[0m \u001b[0mop\u001b[0m\u001b[0;34m)\u001b[0m\u001b[0;34m\u001b[0m\u001b[0m\n\u001b[1;32m    682\u001b[0m             \u001b[0;32melse\u001b[0m\u001b[0;34m:\u001b[0m\u001b[0;34m\u001b[0m\u001b[0m\n\u001b[0;32m--> 683\u001b[0;31m                 \u001b[0mresult\u001b[0m \u001b[0;34m=\u001b[0m \u001b[0mlib\u001b[0m\u001b[0;34m.\u001b[0m\u001b[0mscalar_compare\u001b[0m\u001b[0;34m(\u001b[0m\u001b[0mx\u001b[0m\u001b[0;34m,\u001b[0m \u001b[0my\u001b[0m\u001b[0;34m,\u001b[0m \u001b[0mop\u001b[0m\u001b[0;34m)\u001b[0m\u001b[0;34m\u001b[0m\u001b[0m\n\u001b[0m\u001b[1;32m    684\u001b[0m         \u001b[0;32melse\u001b[0m\u001b[0;34m:\u001b[0m\u001b[0;34m\u001b[0m\u001b[0m\n\u001b[1;32m    685\u001b[0m \u001b[0;34m\u001b[0m\u001b[0m\n",
      "\u001b[0;32mpandas/lib.pyx\u001b[0m in \u001b[0;36mpandas.lib.scalar_compare (pandas/lib.c:14261)\u001b[0;34m()\u001b[0m\n",
      "\u001b[0;31mTypeError\u001b[0m: unorderable types: str() >= int()"
     ]
    }
   ],
   "source": [
    "train_rows = 100\n",
    "# Set a seed to get the same \"random\" shuffle every time.\n",
    "random.seed(1)\n",
    "\n",
    "# Shuffle the indices for the matrix.\n",
    "indices = sample(range(1), sentenceFrame)\n",
    "random.shuffle(indices)\n",
    "\n",
    "#Create train and test sets.\n",
    "train = textRead[indices[:train_rows], :]\n",
    "test = textRead[indices[train_rows:], :]\n",
    "train_upvotes = textRead[\"Title\"].iloc[indices[:train_rows]]\n",
    "test_upvotes = textRead[\"Title\"].iloc[indices[train_rows:]]\n",
    "train = np.nan_to_num(train)"
   ]
  },
  {
   "cell_type": "code",
   "execution_count": null,
   "metadata": {
    "collapsed": true
   },
   "outputs": [],
   "source": []
  }
 ],
 "metadata": {
  "anaconda-cloud": {},
  "kernelspec": {
   "display_name": "Python [conda root]",
   "language": "python",
   "name": "conda-root-py"
  },
  "language_info": {
   "codemirror_mode": {
    "name": "ipython",
    "version": 3
   },
   "file_extension": ".py",
   "mimetype": "text/x-python",
   "name": "python",
   "nbconvert_exporter": "python",
   "pygments_lexer": "ipython3",
   "version": "3.5.2"
  }
 },
 "nbformat": 4,
 "nbformat_minor": 1
}
